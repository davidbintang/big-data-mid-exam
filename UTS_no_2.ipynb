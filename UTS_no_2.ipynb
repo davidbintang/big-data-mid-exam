{
  "nbformat": 4,
  "nbformat_minor": 0,
  "metadata": {
    "colab": {
      "provenance": []
    },
    "kernelspec": {
      "name": "python3",
      "display_name": "Python 3"
    },
    "language_info": {
      "name": "python"
    }
  },
  "cells": [
    {
      "cell_type": "markdown",
      "source": [
        "# mid exams no. 2"
      ],
      "metadata": {
        "id": "FhdNeqQLU9jv"
      }
    },
    {
      "cell_type": "code",
      "execution_count": 1,
      "metadata": {
        "colab": {
          "base_uri": "https://localhost:8080/"
        },
        "id": "kypHGWyhUEcF",
        "outputId": "0a82efc1-5259-41b3-b7c0-ad4629077402"
      },
      "outputs": [
        {
          "output_type": "stream",
          "name": "stdout",
          "text": [
            "Looking in indexes: https://pypi.org/simple, https://us-python.pkg.dev/colab-wheels/public/simple/\n",
            "Requirement already satisfied: pyspark in /usr/local/lib/python3.9/dist-packages (3.4.0)\n",
            "Requirement already satisfied: py4j==0.10.9.7 in /usr/local/lib/python3.9/dist-packages (from pyspark) (0.10.9.7)\n"
          ]
        }
      ],
      "source": [
        "#install Apache spark\n",
        "!pip install pyspark"
      ]
    },
    {
      "cell_type": "code",
      "source": [
        "# Import required libraries\n",
        "\n",
        "from pyspark.sql import SparkSession\n",
        "from pyspark.sql.functions import *\n",
        "from pyspark.ml.fpm import FPGrowth\n"
      ],
      "metadata": {
        "id": "mffYXp6hVCeZ"
      },
      "execution_count": 2,
      "outputs": []
    },
    {
      "cell_type": "code",
      "source": [
        "# Create Spark Session/Context\n",
        "spark = SparkSession.builder \\\n",
        "    .master(\"local\") \\\n",
        "    .appName(\"Frequent Itemset\") \\\n",
        "    .config(\"spark.some.config.option\", \"some-value\") \\\n",
        "    .getOrCreate()"
      ],
      "metadata": {
        "id": "0tncWw6UVE3e"
      },
      "execution_count": 3,
      "outputs": []
    },
    {
      "cell_type": "code",
      "source": [
        "# import the data from csv\n",
        "df = spark.read.option(\"header\", True).option(\"sep\",\";\").csv(\"/content/drive/MyDrive/big-data/market-basket.csv\")\n",
        "df.show()\n",
        "#mtittles.count()\n",
        "# mtittles.show()"
      ],
      "metadata": {
        "id": "qHudjGouVIet",
        "colab": {
          "base_uri": "https://localhost:8080/"
        },
        "outputId": "0c8dd833-6282-4e08-969c-85f8d79a6596"
      },
      "execution_count": 4,
      "outputs": [
        {
          "output_type": "stream",
          "name": "stdout",
          "text": [
            "+------+--------------------+--------+----------------+-----+----------+--------------+\n",
            "|BillNo|            Itemname|Quantity|            Date|Price|CustomerID|       Country|\n",
            "+------+--------------------+--------+----------------+-----+----------+--------------+\n",
            "|536365|WHITE HANGING HEA...|       6|01.12.2010 08:26| 2,55|     17850|United Kingdom|\n",
            "|536365| WHITE METAL LANTERN|       6|01.12.2010 08:26| 3,39|     17850|United Kingdom|\n",
            "|536365|CREAM CUPID HEART...|       8|01.12.2010 08:26| 2,75|     17850|United Kingdom|\n",
            "|536365|KNITTED UNION FLA...|       6|01.12.2010 08:26| 3,39|     17850|United Kingdom|\n",
            "|536365|RED WOOLLY HOTTIE...|       6|01.12.2010 08:26| 3,39|     17850|United Kingdom|\n",
            "|536365|SET 7 BABUSHKA NE...|       2|01.12.2010 08:26| 7,65|     17850|United Kingdom|\n",
            "|536365|GLASS STAR FROSTE...|       6|01.12.2010 08:26| 4,25|     17850|United Kingdom|\n",
            "|536366|HAND WARMER UNION...|       6|01.12.2010 08:28| 1,85|     17850|United Kingdom|\n",
            "|536366|HAND WARMER RED P...|       6|01.12.2010 08:28| 1,85|     17850|United Kingdom|\n",
            "|536367|ASSORTED COLOUR B...|      32|01.12.2010 08:34| 1,69|     13047|United Kingdom|\n",
            "|536367|POPPY'S PLAYHOUSE...|       6|01.12.2010 08:34|  2,1|     13047|United Kingdom|\n",
            "|536367|POPPY'S PLAYHOUSE...|       6|01.12.2010 08:34|  2,1|     13047|United Kingdom|\n",
            "|536367|FELTCRAFT PRINCES...|       8|01.12.2010 08:34| 3,75|     13047|United Kingdom|\n",
            "|536367|IVORY KNITTED MUG...|       6|01.12.2010 08:34| 1,65|     13047|United Kingdom|\n",
            "|536367|BOX OF 6 ASSORTED...|       6|01.12.2010 08:34| 4,25|     13047|United Kingdom|\n",
            "|536367|BOX OF VINTAGE JI...|       3|01.12.2010 08:34| 4,95|     13047|United Kingdom|\n",
            "|536367|BOX OF VINTAGE AL...|       2|01.12.2010 08:34| 9,95|     13047|United Kingdom|\n",
            "|536367|HOME BUILDING BLO...|       3|01.12.2010 08:34| 5,95|     13047|United Kingdom|\n",
            "|536367|LOVE BUILDING BLO...|       3|01.12.2010 08:34| 5,95|     13047|United Kingdom|\n",
            "|536367|RECIPE BOX WITH M...|       4|01.12.2010 08:34| 7,95|     13047|United Kingdom|\n",
            "+------+--------------------+--------+----------------+-----+----------+--------------+\n",
            "only showing top 20 rows\n",
            "\n"
          ]
        }
      ]
    },
    {
      "cell_type": "code",
      "source": [
        "# Select only the billno adn items name\n",
        "df_raw = df.select(\"BillNo\",\"Itemname\")\n",
        "df_raw.show()"
      ],
      "metadata": {
        "id": "KKbUcG4ZZtH6",
        "colab": {
          "base_uri": "https://localhost:8080/"
        },
        "outputId": "6d0d2be6-e7ea-45e3-e7f1-39a27529da2d"
      },
      "execution_count": 5,
      "outputs": [
        {
          "output_type": "stream",
          "name": "stdout",
          "text": [
            "+------+--------------------+\n",
            "|BillNo|            Itemname|\n",
            "+------+--------------------+\n",
            "|536365|WHITE HANGING HEA...|\n",
            "|536365| WHITE METAL LANTERN|\n",
            "|536365|CREAM CUPID HEART...|\n",
            "|536365|KNITTED UNION FLA...|\n",
            "|536365|RED WOOLLY HOTTIE...|\n",
            "|536365|SET 7 BABUSHKA NE...|\n",
            "|536365|GLASS STAR FROSTE...|\n",
            "|536366|HAND WARMER UNION...|\n",
            "|536366|HAND WARMER RED P...|\n",
            "|536367|ASSORTED COLOUR B...|\n",
            "|536367|POPPY'S PLAYHOUSE...|\n",
            "|536367|POPPY'S PLAYHOUSE...|\n",
            "|536367|FELTCRAFT PRINCES...|\n",
            "|536367|IVORY KNITTED MUG...|\n",
            "|536367|BOX OF 6 ASSORTED...|\n",
            "|536367|BOX OF VINTAGE JI...|\n",
            "|536367|BOX OF VINTAGE AL...|\n",
            "|536367|HOME BUILDING BLO...|\n",
            "|536367|LOVE BUILDING BLO...|\n",
            "|536367|RECIPE BOX WITH M...|\n",
            "+------+--------------------+\n",
            "only showing top 20 rows\n",
            "\n"
          ]
        }
      ]
    },
    {
      "cell_type": "code",
      "source": [
        "# Before dropping the duplicates\n",
        "df_raw.count()"
      ],
      "metadata": {
        "id": "_NVAxkv8b7FA",
        "colab": {
          "base_uri": "https://localhost:8080/"
        },
        "outputId": "df5822b2-fd5f-4968-8adc-bee515cf7f23"
      },
      "execution_count": 6,
      "outputs": [
        {
          "output_type": "execute_result",
          "data": {
            "text/plain": [
              "522064"
            ]
          },
          "metadata": {},
          "execution_count": 6
        }
      ]
    },
    {
      "cell_type": "code",
      "source": [
        "# Remove the duplicates\n",
        "df_raw = df_raw.dropDuplicates([\"BillNo\", \"Itemname\"])\n",
        "df_raw.count()"
      ],
      "metadata": {
        "id": "8VGaCGCcb9v4",
        "colab": {
          "base_uri": "https://localhost:8080/"
        },
        "outputId": "d36111ad-85f3-417e-bb8b-e5cd8d96557d"
      },
      "execution_count": 7,
      "outputs": [
        {
          "output_type": "execute_result",
          "data": {
            "text/plain": [
              "511280"
            ]
          },
          "metadata": {},
          "execution_count": 7
        }
      ]
    },
    {
      "cell_type": "code",
      "source": [
        "# Convert into this format: [\"id\", \"items\"] = [1, [a, b, c]]\n",
        "# You can use groupBy, agg, and collect_list methods\n",
        "\n",
        "df_input = df_raw.groupBy(\"BillNo\").agg(collect_list('Itemname').alias('items'))\n",
        "df_input.show()"
      ],
      "metadata": {
        "id": "1niv9qC-cHsg",
        "colab": {
          "base_uri": "https://localhost:8080/"
        },
        "outputId": "562ce895-8aac-4274-bcb5-6e067c4cf303"
      },
      "execution_count": 8,
      "outputs": [
        {
          "output_type": "stream",
          "name": "stdout",
          "text": [
            "+------+--------------------+\n",
            "|BillNo|               items|\n",
            "+------+--------------------+\n",
            "|536365|[KNITTED UNION FL...|\n",
            "|536366|[HAND WARMER UNIO...|\n",
            "|536367|[BOX OF VINTAGE J...|\n",
            "|536368|[YELLOW COAT RACK...|\n",
            "|536369|[BATH BUILDING BL...|\n",
            "|536370|[SPACEBOY LUNCH B...|\n",
            "|536371|[PAPER CHAIN KIT ...|\n",
            "|536372|[HAND WARMER UNIO...|\n",
            "|536373|[GLASS STAR FROST...|\n",
            "|536374|[VICTORIAN SEWING...|\n",
            "|536375|[SAVE THE PLANET ...|\n",
            "|536376|[RED HANGING HEAR...|\n",
            "|536377|[HAND WARMER RED ...|\n",
            "|536378|[PACK OF 60 PINK ...|\n",
            "|536380|[JAM MAKING SET P...|\n",
            "|536381|[ZINC WILLIE WINK...|\n",
            "|536382|[VINTAGE SNAKES &...|\n",
            "|536384|[ENAMEL BREAD BIN...|\n",
            "|536385|[TRADITIONAL CHRI...|\n",
            "|536386|[JUMBO BAG RED RE...|\n",
            "+------+--------------------+\n",
            "only showing top 20 rows\n",
            "\n"
          ]
        }
      ]
    },
    {
      "cell_type": "code",
      "source": [
        "# Train the data\n",
        "# fpGrowth = FPGrowth(itemsCol=\"items\", minSupport=0.02, minConfidence=0.02)\n",
        "# fpGrowth = FPGrowth(itemsCol=\"items\", minSupport=0.05, minConfidence=0.05)\n",
        "# fpGrowth = FPGrowth(itemsCol=\"items\", minSupport=0.1, minConfidence=0.1)\n",
        "fpGrowth = FPGrowth(itemsCol=\"items\", minSupport=0.05, minConfidence=0.5)\n",
        "\n",
        "# 2. Train/fit the data training to become a model\n",
        "model = fpGrowth.fit(df_input)"
      ],
      "metadata": {
        "id": "gNAbaF_-ckJM"
      },
      "execution_count": 38,
      "outputs": []
    },
    {
      "cell_type": "code",
      "source": [
        "# Frequent Itemset\n",
        "model.freqItemsets.show()"
      ],
      "metadata": {
        "id": "9bGhbzu-dwct",
        "colab": {
          "base_uri": "https://localhost:8080/"
        },
        "outputId": "342e01b6-1b07-496f-a4c3-332d7f09dd61"
      },
      "execution_count": 39,
      "outputs": [
        {
          "output_type": "stream",
          "name": "stdout",
          "text": [
            "+--------------------+----+\n",
            "|               items|freq|\n",
            "+--------------------+----+\n",
            "|[JAM MAKING SET P...|1116|\n",
            "|[LUNCH BAG  BLACK...|1260|\n",
            "|[HEART OF WICKER ...|1181|\n",
            "|[JAM MAKING SET W...|1089|\n",
            "|[REGENCY CAKESTAN...|1904|\n",
            "|[ASSORTED COLOUR ...|1431|\n",
            "|[LUNCH BAG SPACEB...|1147|\n",
            "|[JUMBO SHOPPER VI...|1166|\n",
            "|[LUNCH BAG RED RE...|1541|\n",
            "|[PACK OF 72 RETRO...|1279|\n",
            "|[LUNCH BAG CARS B...|1132|\n",
            "|[JUMBO BAG PINK P...|1211|\n",
            "|[JUMBO BAG RED RE...|2064|\n",
            "|[WOODEN PICTURE F...|1092|\n",
            "|[NATURAL SLATE HE...|1232|\n",
            "|    [SPOTTY BUNTING]|1114|\n",
            "|[JUMBO STORAGE BA...|1178|\n",
            "|[RECIPE BOX PANTR...|1085|\n",
            "|     [PARTY BUNTING]|1656|\n",
            "|[PAPER CHAIN KIT ...|1143|\n",
            "+--------------------+----+\n",
            "only showing top 20 rows\n",
            "\n"
          ]
        }
      ]
    },
    {
      "cell_type": "markdown",
      "source": [
        "#### Conslusion :\n",
        "\n",
        "in the FP-growth algorithm, minSupport and minConfidence are the parameters used to set the resulting association pattern. minSupport determines how often a pattern should appear in transactional data. The higher the minSupport value, the rarer the pattern is generated and the higher the quality of the pattern. and then The higher minConfidence value, the stricter the conditions are and the fewer association rules are generated. in this case we can use the minSupport value to omit items that rarely appear in transactions, such as items that are less popular. We can also use the minConfidence value to filter out weak association rules, so that only strong rules are returned\n"
      ],
      "metadata": {
        "id": "CsE9cA5Xl4Kr"
      }
    },
    {
      "cell_type": "code",
      "source": [],
      "metadata": {
        "id": "xVqIV1-FqMFK"
      },
      "execution_count": null,
      "outputs": []
    }
  ]
}